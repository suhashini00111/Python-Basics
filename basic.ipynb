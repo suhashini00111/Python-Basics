{
 "cells": [
  {
   "cell_type": "code",
   "execution_count": null,
   "metadata": {},
   "outputs": [],
   "source": [
    "#1- Write a Python program to print \"Hello, World!\"\n",
    "\n",
    "print(\"Hello, World!\")"
   ]
  },
  {
   "cell_type": "code",
   "execution_count": null,
   "metadata": {},
   "outputs": [],
   "source": [
    "#2- write a Python program that displays your name and age.\n",
    "name = \"Vishal Sharma\"\n",
    "age = 23\n",
    "\n",
    "print(\"My name is\", name)\n",
    "print(\"My age is\", age)"
   ]
  },
  {
   "cell_type": "code",
   "execution_count": null,
   "metadata": {},
   "outputs": [],
   "source": [
    "#3- Write code to print all the pre-define keywords in python using the keyword library.\n",
    "import keyword \n",
    "keyword_list = keyword.kwlist\n",
    "print(\"Python Keywords:\")\n",
    "for kw in keyword_list:\n",
    "    print(kw)"
   ]
  },
  {
   "cell_type": "code",
   "execution_count": null,
   "metadata": {},
   "outputs": [],
   "source": [
    "#4- Write a program that checks if a given word is a python keyword\n",
    "\n",
    "import keyword \n",
    "\n",
    "words =[\"for\",  \"hello\", \"def\"]\n",
    "for word in words:\n",
    "    if keyword.iskeyword(word):\n",
    "        print(f\"{word} is a python keyword\")\n",
    "    else:\n",
    "        print(f\"{word} in not a python keyword\")\n"
   ]
  },
  {
   "cell_type": "code",
   "execution_count": null,
   "metadata": {},
   "outputs": [],
   "source": [
    "# 5- Create a list and tuple in Python, and demonstrate how attempting to change an element works differently for each.\n",
    "\n",
    "my_list = [1, 2, 3, 4]\n",
    "print(\"original list\", my_list)\n",
    "\n",
    "my_list[1]=99\n",
    "print(\"Modified list: \", my_list)\n",
    "\n",
    "my_tuple= (1,2, 4)\n",
    "print(\"Original tuple: \", my_tuple)\n",
    "\n",
    "\n",
    "my_tuple[2] = 99\n",
    "print(\"this is modified tuple: \", my_tuple)\n",
    "  \n",
    "\n",
    "\n",
    "\n"
   ]
  },
  {
   "cell_type": "code",
   "execution_count": null,
   "metadata": {},
   "outputs": [],
   "source": [
    "#6- Write a function to demonstrate the behavior of mutable and immutable arguments.\n",
    "\n",
    "def modified_Arguments(num, lst):\n",
    "    num += 10 \n",
    "    print(f\"Inside function (num): {num}\")\n",
    "\n",
    "    lst.append(99)  \n",
    "    print(f\"Inside function (list): {lst}\")\n",
    "\n",
    "\n",
    "x = 5\n",
    "y = [2, 3, 4, 5]\n",
    "\n",
    "print(f\"Before function call (num): {x}\")\n",
    "print(f\"Before function call (list): {y}\")\n",
    "\n",
    "\n",
    "modified_Arguments(x, y)\n",
    "# \n",
    "print(f\"After function call (num): {x}\")  \n",
    "print(f\"After function call (list): {y}\") \n",
    "\n"
   ]
  },
  {
   "cell_type": "code",
   "execution_count": 2,
   "metadata": {},
   "outputs": [
    {
     "ename": "TypeError",
     "evalue": "unsupported operand type(s) for -: 'str' and 'str'",
     "output_type": "error",
     "traceback": [
      "\u001b[31m---------------------------------------------------------------------------\u001b[39m",
      "\u001b[31mTypeError\u001b[39m                                 Traceback (most recent call last)",
      "\u001b[36mCell\u001b[39m\u001b[36m \u001b[39m\u001b[32mIn[2]\u001b[39m\u001b[32m, line 9\u001b[39m\n\u001b[32m      4\u001b[39m b = \u001b[38;5;28minput\u001b[39m(\u001b[33m\"\u001b[39m\u001b[33mEnter the second number: \u001b[39m\u001b[33m\"\u001b[39m).strip()\n\u001b[32m      8\u001b[39m addition = a + b\n\u001b[32m----> \u001b[39m\u001b[32m9\u001b[39m sub = \u001b[43ma\u001b[49m\u001b[43m \u001b[49m\u001b[43m-\u001b[49m\u001b[43m \u001b[49m\u001b[43mb\u001b[49m\n\u001b[32m     10\u001b[39m multi = a * b\n\u001b[32m     12\u001b[39m \u001b[38;5;28;01mif\u001b[39;00m b != \u001b[32m0\u001b[39m:\n",
      "\u001b[31mTypeError\u001b[39m: unsupported operand type(s) for -: 'str' and 'str'"
     ]
    }
   ],
   "source": [
    "#7- Write a program that performs basic arithmetic operation on two user-input numbers\n",
    " \n",
    "a = input(\"Enter the first number: \").strip()\n",
    "b = input(\"Enter the second number: \").strip()\n",
    "\n",
    "\n",
    "\n",
    "addition = a + b\n",
    "sub = a - b\n",
    "multi = a * b\n",
    "\n",
    "if b != 0:\n",
    "    division = a / b\n",
    "    modulus = a % b\n",
    "else:\n",
    "    division = \"Undefined (Cannot divide by zero)\"\n",
    "    modulus = \"Undefined\"\n",
    "\n",
    "print(\"\\nResults:\")\n",
    "print(f\"Addition: {addition}\")\n",
    "print(f\"Subtraction: {sub}\")\n",
    "print(f\"Multiplication: {multi}\")  \n",
    "print(f\"Division: {division}\")\n",
    "print(f\"Modulus: {modulus}\")\n",
    "\n",
    "\n"
   ]
  },
  {
   "cell_type": "code",
   "execution_count": 5,
   "metadata": {},
   "outputs": [
    {
     "name": "stdout",
     "output_type": "stream",
     "text": [
      "a and b (a &&b): False\n",
      "a or b : True\n",
      "not a : False\n",
      "not b : True\n",
      "(x<y) : True\n",
      "(x< y) : False\n"
     ]
    }
   ],
   "source": [
    "#8- Write a program to demostrate the use of logical operators \n",
    "\n",
    "a = True\n",
    "b = False\n",
    "print(\"a and b (a &&b):\", a and b)\n",
    "print(\"a or b :\", a or b)\n",
    "print(\"not a :\", not a)\n",
    "print(\"not b :\", not b)\n",
    "\n",
    "# example with numbers\n",
    "\n",
    "x = 10\n",
    "y = 20\n",
    "print(\"(x<y) :\" , (x<y) )\n",
    "print(\"(x< y) :\", (x>y))"
   ]
  },
  {
   "cell_type": "code",
   "execution_count": 13,
   "metadata": {},
   "outputs": [
    {
     "name": "stdout",
     "output_type": "stream",
     "text": [
      "Integer value cannot convert to integer\n",
      "Float value:  cannot convert to float\n",
      "Boolean value:  False\n"
     ]
    }
   ],
   "source": [
    "#9- wrtie a python program to convert user input from string to integer, float , and boolean types\n",
    "\n",
    "user_input = input(\"Enter a value: \")\n",
    "\n",
    "if user_input.isdigit() or (user_input.startswith('_') and user_input[1:].isdigit()):\n",
    "    int_value = int(user_input)\n",
    "else:\n",
    "    int_value = \"cannot convert to integer\"\n",
    "\n",
    "    \n",
    "if user_input.replace('.', '', 1).isdigit() or (user_input.startswith('_') and user_input[1:].replace('.', '', 1).isdigit()):\n",
    "\n",
    "    float_value = float(user_input)\n",
    "else:\n",
    "    float_value = \"cannot convert to float\"\n",
    "\n",
    "    bool_value =bool(user_input)\n",
    "    \n",
    "    print(\"Integer value\", int_value)\n",
    "    print(\"Float value: \", float_value)\n",
    "    print(\"Boolean value: \", bool_value)\n",
    "    "
   ]
  },
  {
   "cell_type": "code",
   "execution_count": 1,
   "metadata": {},
   "outputs": [
    {
     "name": "stdout",
     "output_type": "stream",
     "text": [
      "Original List: [10, 20, 30, 40, 50, 60.3, 42.8]\n",
      "Convert List (int:) [10, 20, 30, 40, 50, 60, 42]\n",
      "Convert List (float:) [10.0, 20.0, 30.0, 40.0, 50.0, 60.3, 42.8]\n",
      "Convert List (string:) ['10', '20', '30', '40', '50', '60', '42']\n"
     ]
    }
   ],
   "source": [
    "#10 - write code demostrate type casting with list elements.\n",
    "\n",
    "data = [10, 20, 30, 40, 50, 60.3, 42.8]\n",
    "\n",
    "int_data = [int(float(x)) for x in data]\n",
    "print(\"Original List:\", data)\n",
    "print(\"Convert List (int:)\", int_data)\n",
    "\n",
    "float_data = [float(x) for x in data]\n",
    "print(\"Convert List (float:)\", float_data)\n",
    "\n",
    "str_data = [str(x) for x in int_data]\n",
    "print(\"Convert List (string:)\", str_data)"
   ]
  },
  {
   "cell_type": "code",
   "execution_count": 9,
   "metadata": {},
   "outputs": [
    {
     "name": "stdout",
     "output_type": "stream",
     "text": [
      "21 is positive number\n"
     ]
    }
   ],
   "source": [
    "#11- Write a program that checks if a number is positive, negative , or zero\n",
    "\n",
    "def check_num(num):\n",
    "    if num>0:\n",
    "        print(f\"{num} is positive number\")\n",
    "    elif num<0:\n",
    "        print(f\"{num} is negative number\")\n",
    "    else:\n",
    "        print(f\"{num} is zero\")\n",
    "        \n",
    "\n",
    "num = 21\n",
    "check_num(num)\n",
    "\n",
    "\n"
   ]
  },
  {
   "cell_type": "code",
   "execution_count": 12,
   "metadata": {},
   "outputs": [
    {
     "name": "stdout",
     "output_type": "stream",
     "text": [
      "1\n",
      "2\n",
      "3\n",
      "4\n",
      "5\n",
      "6\n",
      "7\n",
      "8\n",
      "9\n",
      "10\n"
     ]
    }
   ],
   "source": [
    "#12 Write a for loop  to print number from 1 to 10\n",
    "\n",
    "for num in range(1, 11):\n",
    "    print(num)\n",
    "\n",
    "\n",
    "\n"
   ]
  },
  {
   "cell_type": "code",
   "execution_count": 13,
   "metadata": {},
   "outputs": [
    {
     "name": "stdout",
     "output_type": "stream",
     "text": [
      "Sum of all even numbers between 1 and 50 :  650\n"
     ]
    }
   ],
   "source": [
    "#13- Write a python program  to find the sum of all even numbers between 1 and 50\n",
    "\n",
    "sum_even = 0\n",
    "\n",
    "for num in range(1, 51):\n",
    "    if num % 2==0:\n",
    "        sum_even += num\n",
    "\n",
    "print(\"Sum of all even numbers between 1 and 50 : \", sum_even)"
   ]
  },
  {
   "cell_type": "code",
   "execution_count": 15,
   "metadata": {},
   "outputs": [
    {
     "name": "stdout",
     "output_type": "stream",
     "text": [
      "Original String: Vishal Sharma\n",
      "Reversed String: amrahS lahsiV\n"
     ]
    }
   ],
   "source": [
    "#14- Write a program to reverse a string using a while loop.\n",
    "\n",
    "string = \"Vishal Sharma\"\n",
    "\n",
    "reversed_string =\"\"\n",
    "index = len(string) - 1\n",
    "\n",
    "while index >= 0:\n",
    "    reversed_string += string[index]\n",
    "    index -= 1\n",
    "\n",
    "print(\"Original String:\", string)\n",
    "print(\"Reversed String:\", reversed_string)\n",
    "\n"
   ]
  },
  {
   "cell_type": "code",
   "execution_count": 11,
   "metadata": {},
   "outputs": [
    {
     "name": "stdin",
     "output_type": "stream",
     "text": [
      "Enter a number 6\n"
     ]
    },
    {
     "name": "stdout",
     "output_type": "stream",
     "text": [
      " Factorial 6  is 6\n",
      " Factorial 6  is 36\n",
      " Factorial 6  is 216\n",
      " Factorial 6  is 1296\n",
      " Factorial 6  is 7776\n",
      " Factorial 6  is 46656\n"
     ]
    }
   ],
   "source": [
    "#15 Write a python program to calculate the factorial of a number provided by the user using a while loop .\n",
    "\n",
    "num = int(input(\"Enter a number\"))\n",
    "factorial = 1\n",
    "\n",
    "i = num\n",
    "\n",
    "while i > 0:\n",
    "    factorial *= num\n",
    "    i -= 1\n",
    "    print(f\" Factorial {num}  is {factorial}\")"
   ]
  }
 ],
 "metadata": {
  "kernelspec": {
   "display_name": "Python 3 (ipykernel)",
   "language": "python",
   "name": "python3"
  },
  "language_info": {
   "codemirror_mode": {
    "name": "ipython",
    "version": 3
   },
   "file_extension": ".py",
   "mimetype": "text/x-python",
   "name": "python",
   "nbconvert_exporter": "python",
   "pygments_lexer": "ipython3",
   "version": "3.10.11"
  }
 },
 "nbformat": 4,
 "nbformat_minor": 4
}
